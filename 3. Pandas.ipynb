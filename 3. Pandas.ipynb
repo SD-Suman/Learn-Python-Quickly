{
 "cells": [
  {
   "cell_type": "markdown",
   "id": "6f25130c",
   "metadata": {
    "tags": [],
    "toc-hr-collapsed": true
   },
   "source": [
    "# Pandas and Datetime\n",
    "\n",
    "Pandas comes from Panel Datasets (table like).\n",
    "\n",
    "Pandas offer easy tools to wrangle, clean, data in table form, plot and perform statistical operations on columns/rows etc."
   ]
  },
  {
   "cell_type": "code",
   "execution_count": 1,
   "id": "86c176ca-7907-4a66-a7ae-54ef720e2b6c",
   "metadata": {},
   "outputs": [],
   "source": [
    "%config Completer.use_jedi = False \n",
    "#This command gives auto-completion option enabled for the jupyter labs"
   ]
  },
  {
   "cell_type": "code",
   "execution_count": 2,
   "id": "52971258-6c3a-4a08-a95b-1379f228289b",
   "metadata": {},
   "outputs": [],
   "source": [
    "import numpy as np\n",
    "import pandas as pd\n",
    "import matplotlib.pyplot as plt\n",
    "%matplotlib inline"
   ]
  },
  {
   "cell_type": "code",
   "execution_count": 3,
   "id": "814ff8c6-080b-4ef0-84a9-1dd7d998dd73",
   "metadata": {},
   "outputs": [],
   "source": [
    "pd.set_option('display.max_rows',2000)\n",
    "pd.set_option('display.max_columns',255)\n",
    "#pd.get_option('display.max_columns')\n",
    "import warnings\n",
    "warnings.filterwarnings(\"ignore\") #Hides futures warnings"
   ]
  },
  {
   "cell_type": "markdown",
   "id": "4450d86c-ab0c-4928-84ef-99204bebdd0c",
   "metadata": {},
   "source": [
    "So moving from numpy to pandas - using pandas to represent arrays in a table format: "
   ]
  },
  {
   "cell_type": "code",
   "execution_count": 4,
   "id": "1873623b-641d-469f-9a8b-03afe86878ca",
   "metadata": {},
   "outputs": [
    {
     "data": {
      "text/html": [
       "<div>\n",
       "<style scoped>\n",
       "    .dataframe tbody tr th:only-of-type {\n",
       "        vertical-align: middle;\n",
       "    }\n",
       "\n",
       "    .dataframe tbody tr th {\n",
       "        vertical-align: top;\n",
       "    }\n",
       "\n",
       "    .dataframe thead th {\n",
       "        text-align: right;\n",
       "    }\n",
       "</style>\n",
       "<table border=\"1\" class=\"dataframe\">\n",
       "  <thead>\n",
       "    <tr style=\"text-align: right;\">\n",
       "      <th></th>\n",
       "      <th>0</th>\n",
       "      <th>1</th>\n",
       "      <th>2</th>\n",
       "      <th>3</th>\n",
       "    </tr>\n",
       "  </thead>\n",
       "  <tbody>\n",
       "    <tr>\n",
       "      <th>0</th>\n",
       "      <td>2.173704</td>\n",
       "      <td>-1.01210</td>\n",
       "      <td>1.210358</td>\n",
       "      <td>1.407559</td>\n",
       "    </tr>\n",
       "    <tr>\n",
       "      <th>1</th>\n",
       "      <td>0.332258</td>\n",
       "      <td>0.29554</td>\n",
       "      <td>-1.614979</td>\n",
       "      <td>-0.216856</td>\n",
       "    </tr>\n",
       "  </tbody>\n",
       "</table>\n",
       "</div>"
      ],
      "text/plain": [
       "          0        1         2         3\n",
       "0  2.173704 -1.01210  1.210358  1.407559\n",
       "1  0.332258  0.29554 -1.614979 -0.216856"
      ]
     },
     "execution_count": 4,
     "metadata": {},
     "output_type": "execute_result"
    }
   ],
   "source": [
    "pd.DataFrame(np.random.randn(2, 4))"
   ]
  },
  {
   "cell_type": "code",
   "execution_count": 5,
   "id": "ae694fe2-dad1-4332-a539-f1b17e95f8f6",
   "metadata": {},
   "outputs": [
    {
     "data": {
      "text/html": [
       "<div>\n",
       "<style scoped>\n",
       "    .dataframe tbody tr th:only-of-type {\n",
       "        vertical-align: middle;\n",
       "    }\n",
       "\n",
       "    .dataframe tbody tr th {\n",
       "        vertical-align: top;\n",
       "    }\n",
       "\n",
       "    .dataframe thead th {\n",
       "        text-align: right;\n",
       "    }\n",
       "</style>\n",
       "<table border=\"1\" class=\"dataframe\">\n",
       "  <thead>\n",
       "    <tr style=\"text-align: right;\">\n",
       "      <th></th>\n",
       "      <th>0</th>\n",
       "      <th>1</th>\n",
       "      <th>2</th>\n",
       "    </tr>\n",
       "  </thead>\n",
       "  <tbody>\n",
       "    <tr>\n",
       "      <th>0</th>\n",
       "      <td>-0.075524</td>\n",
       "      <td>1.059573</td>\n",
       "      <td>1.236992</td>\n",
       "    </tr>\n",
       "    <tr>\n",
       "      <th>1</th>\n",
       "      <td>-0.910639</td>\n",
       "      <td>1.465369</td>\n",
       "      <td>2.102948</td>\n",
       "    </tr>\n",
       "    <tr>\n",
       "      <th>2</th>\n",
       "      <td>1.040414</td>\n",
       "      <td>-1.354249</td>\n",
       "      <td>-0.892211</td>\n",
       "    </tr>\n",
       "    <tr>\n",
       "      <th>3</th>\n",
       "      <td>0.403215</td>\n",
       "      <td>0.558722</td>\n",
       "      <td>-0.350652</td>\n",
       "    </tr>\n",
       "    <tr>\n",
       "      <th>4</th>\n",
       "      <td>-0.618368</td>\n",
       "      <td>0.749246</td>\n",
       "      <td>-0.646394</td>\n",
       "    </tr>\n",
       "    <tr>\n",
       "      <th>5</th>\n",
       "      <td>0.552206</td>\n",
       "      <td>0.455369</td>\n",
       "      <td>0.261997</td>\n",
       "    </tr>\n",
       "    <tr>\n",
       "      <th>6</th>\n",
       "      <td>0.538747</td>\n",
       "      <td>1.769234</td>\n",
       "      <td>-1.168879</td>\n",
       "    </tr>\n",
       "    <tr>\n",
       "      <th>7</th>\n",
       "      <td>-1.059345</td>\n",
       "      <td>-2.731435</td>\n",
       "      <td>1.168385</td>\n",
       "    </tr>\n",
       "    <tr>\n",
       "      <th>8</th>\n",
       "      <td>-1.465066</td>\n",
       "      <td>1.328930</td>\n",
       "      <td>-0.578955</td>\n",
       "    </tr>\n",
       "    <tr>\n",
       "      <th>9</th>\n",
       "      <td>-0.009024</td>\n",
       "      <td>-0.414527</td>\n",
       "      <td>0.469774</td>\n",
       "    </tr>\n",
       "  </tbody>\n",
       "</table>\n",
       "</div>"
      ],
      "text/plain": [
       "          0         1         2\n",
       "0 -0.075524  1.059573  1.236992\n",
       "1 -0.910639  1.465369  2.102948\n",
       "2  1.040414 -1.354249 -0.892211\n",
       "3  0.403215  0.558722 -0.350652\n",
       "4 -0.618368  0.749246 -0.646394\n",
       "5  0.552206  0.455369  0.261997\n",
       "6  0.538747  1.769234 -1.168879\n",
       "7 -1.059345 -2.731435  1.168385\n",
       "8 -1.465066  1.328930 -0.578955\n",
       "9 -0.009024 -0.414527  0.469774"
      ]
     },
     "execution_count": 5,
     "metadata": {},
     "output_type": "execute_result"
    }
   ],
   "source": [
    "pd.DataFrame(np.random.randn(10,3)) #try a 600 x 3 matrix of numpy array with standard normal distribution "
   ]
  },
  {
   "cell_type": "code",
   "execution_count": 6,
   "id": "ed846e87-1b1c-4513-8d41-dffa7458826d",
   "metadata": {},
   "outputs": [
    {
     "data": {
      "image/png": "[encoded data removed]",
      "text/plain": [
       "<Figure size 432x288 with 1 Axes>"
      ]
     },
     "metadata": {
      "needs_background": "light"
     },
     "output_type": "display_data"
    }
   ],
   "source": [
    "# Standard normal distribution -- creates 3 columns\n",
    "pd.DataFrame(np.random.randn(600,3)).plot.hist(alpha = 0.6);\n",
    "#More about plotting in the next notebook including matplotlib and seaborn"
   ]
  },
  {
   "cell_type": "markdown",
   "id": "94e6a1f6-87e4-4cba-b9d8-799df58e5379",
   "metadata": {},
   "source": [
    "OROR### Reading files such as excel/csv: \n",
    "\n",
    "pd.read_... has several file type options such as json, csv, json, clipboard (copied table), pickle file, etc.\n",
    "\n",
    "One of the sample datasets we will use here is the famous Titanic dataset (Source: https://www.kaggle.com/datasets/shuofxz/titanic-machine-learning-from-disaster?select=train.csv).\n",
    "\n",
    "You may also use Census of India 2011 dataset (Source: https://www.kaggle.com/datasets/danofer/india-census?select=india-districts-census-2011.csv) -- Also avaliable in the folder shared - or you may download the dataset from the link."
   ]
  },
  {
   "cell_type": "code",
   "execution_count": 7,
   "id": "de13fefb-4731-4bbd-8ccf-3943daf527a2",
   "metadata": {},
   "outputs": [],
   "source": [
    "df = pd.read_csv('./data/titanic/train.csv')\n",
    "#df = pd.read_csv('./india-districts-census-2011.csv')"
   ]
  },
  {
   "cell_type": "code",
   "execution_count": 8,
   "id": "690f0dd8-07e4-49eb-8934-66ea9f2ad530",
   "metadata": {},
   "outputs": [
    {
     "data": {
      "text/html": [
       "<div>\n",
       "<style scoped>\n",
       "    .dataframe tbody tr th:only-of-type {\n",
       "        vertical-align: middle;\n",
       "    }\n",
       "\n",
       "    .dataframe tbody tr th {\n",
       "        vertical-align: top;\n",
       "    }\n",
       "\n",
       "    .dataframe thead th {\n",
       "        text-align: right;\n",
       "    }\n",
       "</style>\n",
       "<table border=\"1\" class=\"dataframe\">\n",
       "  <thead>\n",
       "    <tr style=\"text-align: right;\">\n",
       "      <th></th>\n",
       "      <th>PassengerId</th>\n",
       "      <th>Survived</th>\n",
       "      <th>Pclass</th>\n",
       "      <th>Name</th>\n",
       "      <th>Sex</th>\n",
       "      <th>Age</th>\n",
       "      <th>SibSp</th>\n",
       "      <th>Parch</th>\n",
       "      <th>Ticket</th>\n",
       "      <th>Fare</th>\n",
       "      <th>Cabin</th>\n",
       "      <th>Embarked</th>\n",
       "    </tr>\n",
       "  </thead>\n",
       "  <tbody>\n",
       "    <tr>\n",
       "      <th>0</th>\n",
       "      <td>1</td>\n",
       "      <td>0</td>\n",
       "      <td>3</td>\n",
       "      <td>Braund, Mr. Owen Harris</td>\n",
       "      <td>male</td>\n",
       "      <td>22.0</td>\n",
       "      <td>1</td>\n",
       "      <td>0</td>\n",
       "      <td>A/5 21171</td>\n",
       "      <td>7.2500</td>\n",
       "      <td>NaN</td>\n",
       "      <td>S</td>\n",
       "    </tr>\n",
       "    <tr>\n",
       "      <th>1</th>\n",
       "      <td>2</td>\n",
       "      <td>1</td>\n",
       "      <td>1</td>\n",
       "      <td>Cumings, Mrs. John Bradley (Florence Briggs Th...</td>\n",
       "      <td>female</td>\n",
       "      <td>38.0</td>\n",
       "      <td>1</td>\n",
       "      <td>0</td>\n",
       "      <td>PC 17599</td>\n",
       "      <td>71.2833</td>\n",
       "      <td>C85</td>\n",
       "      <td>C</td>\n",
       "    </tr>\n",
       "    <tr>\n",
       "      <th>2</th>\n",
       "      <td>3</td>\n",
       "      <td>1</td>\n",
       "      <td>3</td>\n",
       "      <td>Heikkinen, Miss. Laina</td>\n",
       "      <td>female</td>\n",
       "      <td>26.0</td>\n",
       "      <td>0</td>\n",
       "      <td>0</td>\n",
       "      <td>STON/O2. 3101282</td>\n",
       "      <td>7.9250</td>\n",
       "      <td>NaN</td>\n",
       "      <td>S</td>\n",
       "    </tr>\n",
       "    <tr>\n",
       "      <th>3</th>\n",
       "      <td>4</td>\n",
       "      <td>1</td>\n",
       "      <td>1</td>\n",
       "      <td>Futrelle, Mrs. Jacques Heath (Lily May Peel)</td>\n",
       "      <td>female</td>\n",
       "      <td>35.0</td>\n",
       "      <td>1</td>\n",
       "      <td>0</td>\n",
       "      <td>113803</td>\n",
       "      <td>53.1000</td>\n",
       "      <td>C123</td>\n",
       "      <td>S</td>\n",
       "    </tr>\n",
       "    <tr>\n",
       "      <th>4</th>\n",
       "      <td>5</td>\n",
       "      <td>0</td>\n",
       "      <td>3</td>\n",
       "      <td>Allen, Mr. William Henry</td>\n",
       "      <td>male</td>\n",
       "      <td>35.0</td>\n",
       "      <td>0</td>\n",
       "      <td>0</td>\n",
       "      <td>373450</td>\n",
       "      <td>8.0500</td>\n",
       "      <td>NaN</td>\n",
       "      <td>S</td>\n",
       "    </tr>\n",
       "  </tbody>\n",
       "</table>\n",
       "</div>"
      ],
      "text/plain": [
       "   PassengerId  Survived  Pclass  \\\n",
       "0            1         0       3   \n",
       "1            2         1       1   \n",
       "2            3         1       3   \n",
       "3            4         1       1   \n",
       "4            5         0       3   \n",
       "\n",
       "                                                Name     Sex   Age  SibSp  \\\n",
       "0                            Braund, Mr. Owen Harris    male  22.0      1   \n",
       "1  Cumings, Mrs. John Bradley (Florence Briggs Th...  female  38.0      1   \n",
       "2                             Heikkinen, Miss. Laina  female  26.0      0   \n",
       "3       Futrelle, Mrs. Jacques Heath (Lily May Peel)  female  35.0      1   \n",
       "4                           Allen, Mr. William Henry    male  35.0      0   \n",
       "\n",
       "   Parch            Ticket     Fare Cabin Embarked  \n",
       "0      0         A/5 21171   7.2500   NaN        S  \n",
       "1      0          PC 17599  71.2833   C85        C  \n",
       "2      0  STON/O2. 3101282   7.9250   NaN        S  \n",
       "3      0            113803  53.1000  C123        S  \n",
       "4      0            373450   8.0500   NaN        S  "
      ]
     },
     "execution_count": 8,
     "metadata": {},
     "output_type": "execute_result"
    }
   ],
   "source": [
    "df.head()"
   ]
  },
  {
   "cell_type": "code",
   "execution_count": 9,
   "id": "433c5ffc-1388-43fe-9a91-e0ee33709aec",
   "metadata": {},
   "outputs": [
    {
     "data": {
      "text/plain": [
       "Index(['PassengerId', 'Survived', 'Pclass', 'Name', 'Sex', 'Age', 'SibSp',\n",
       "       'Parch', 'Ticket', 'Fare', 'Cabin', 'Embarked'],\n",
       "      dtype='object')"
      ]
     },
     "execution_count": 9,
     "metadata": {},
     "output_type": "execute_result"
    }
   ],
   "source": [
    "df.columns"
   ]
  },
  {
   "cell_type": "code",
   "execution_count": 10,
   "id": "ab71577c-1809-4252-9945-0cc57da80bbf",
   "metadata": {},
   "outputs": [
    {
     "data": {
      "text/html": [
       "<div>\n",
       "<style scoped>\n",
       "    .dataframe tbody tr th:only-of-type {\n",
       "        vertical-align: middle;\n",
       "    }\n",
       "\n",
       "    .dataframe tbody tr th {\n",
       "        vertical-align: top;\n",
       "    }\n",
       "\n",
       "    .dataframe thead th {\n",
       "        text-align: right;\n",
       "    }\n",
       "</style>\n",
       "<table border=\"1\" class=\"dataframe\">\n",
       "  <thead>\n",
       "    <tr style=\"text-align: right;\">\n",
       "      <th></th>\n",
       "      <th>PassengerId</th>\n",
       "      <th>Survived</th>\n",
       "      <th>Pclass</th>\n",
       "      <th>Age</th>\n",
       "      <th>SibSp</th>\n",
       "      <th>Parch</th>\n",
       "      <th>Fare</th>\n",
       "    </tr>\n",
       "  </thead>\n",
       "  <tbody>\n",
       "    <tr>\n",
       "      <th>count</th>\n",
       "      <td>891.000000</td>\n",
       "      <td>891.000000</td>\n",
       "      <td>891.000000</td>\n",
       "      <td>714.000000</td>\n",
       "      <td>891.000000</td>\n",
       "      <td>891.000000</td>\n",
       "      <td>891.000000</td>\n",
       "    </tr>\n",
       "    <tr>\n",
       "      <th>mean</th>\n",
       "      <td>446.000000</td>\n",
       "      <td>0.383838</td>\n",
       "      <td>2.308642</td>\n",
       "      <td>29.699118</td>\n",
       "      <td>0.523008</td>\n",
       "      <td>0.381594</td>\n",
       "      <td>32.204208</td>\n",
       "    </tr>\n",
       "    <tr>\n",
       "      <th>std</th>\n",
       "      <td>257.353842</td>\n",
       "      <td>0.486592</td>\n",
       "      <td>0.836071</td>\n",
       "      <td>14.526497</td>\n",
       "      <td>1.102743</td>\n",
       "      <td>0.806057</td>\n",
       "      <td>49.693429</td>\n",
       "    </tr>\n",
       "    <tr>\n",
       "      <th>min</th>\n",
       "      <td>1.000000</td>\n",
       "      <td>0.000000</td>\n",
       "      <td>1.000000</td>\n",
       "      <td>0.420000</td>\n",
       "      <td>0.000000</td>\n",
       "      <td>0.000000</td>\n",
       "      <td>0.000000</td>\n",
       "    </tr>\n",
       "    <tr>\n",
       "      <th>25%</th>\n",
       "      <td>223.500000</td>\n",
       "      <td>0.000000</td>\n",
       "      <td>2.000000</td>\n",
       "      <td>20.125000</td>\n",
       "      <td>0.000000</td>\n",
       "      <td>0.000000</td>\n",
       "      <td>7.910400</td>\n",
       "    </tr>\n",
       "    <tr>\n",
       "      <th>50%</th>\n",
       "      <td>446.000000</td>\n",
       "      <td>0.000000</td>\n",
       "      <td>3.000000</td>\n",
       "      <td>28.000000</td>\n",
       "      <td>0.000000</td>\n",
       "      <td>0.000000</td>\n",
       "      <td>14.454200</td>\n",
       "    </tr>\n",
       "    <tr>\n",
       "      <th>75%</th>\n",
       "      <td>668.500000</td>\n",
       "      <td>1.000000</td>\n",
       "      <td>3.000000</td>\n",
       "      <td>38.000000</td>\n",
       "      <td>1.000000</td>\n",
       "      <td>0.000000</td>\n",
       "      <td>31.000000</td>\n",
       "    </tr>\n",
       "    <tr>\n",
       "      <th>max</th>\n",
       "      <td>891.000000</td>\n",
       "      <td>1.000000</td>\n",
       "      <td>3.000000</td>\n",
       "      <td>80.000000</td>\n",
       "      <td>8.000000</td>\n",
       "      <td>6.000000</td>\n",
       "      <td>512.329200</td>\n",
       "    </tr>\n",
       "  </tbody>\n",
       "</table>\n",
       "</div>"
      ],
      "text/plain": [
       "       PassengerId    Survived      Pclass         Age       SibSp  \\\n",
       "count   891.000000  891.000000  891.000000  714.000000  891.000000   \n",
       "mean    446.000000    0.383838    2.308642   29.699118    0.523008   \n",
       "std     257.353842    0.486592    0.836071   14.526497    1.102743   \n",
       "min       1.000000    0.000000    1.000000    0.420000    0.000000   \n",
       "25%     223.500000    0.000000    2.000000   20.125000    0.000000   \n",
       "50%     446.000000    0.000000    3.000000   28.000000    0.000000   \n",
       "75%     668.500000    1.000000    3.000000   38.000000    1.000000   \n",
       "max     891.000000    1.000000    3.000000   80.000000    8.000000   \n",
       "\n",
       "            Parch        Fare  \n",
       "count  891.000000  891.000000  \n",
       "mean     0.381594   32.204208  \n",
       "std      0.806057   49.693429  \n",
       "min      0.000000    0.000000  \n",
       "25%      0.000000    7.910400  \n",
       "50%      0.000000   14.454200  \n",
       "75%      0.000000   31.000000  \n",
       "max      6.000000  512.329200  "
      ]
     },
     "execution_count": 10,
     "metadata": {},
     "output_type": "execute_result"
    }
   ],
   "source": [
    "df.describe()  # To see even the categorical variable summary use: (include='all')"
   ]
  },
  {
   "cell_type": "code",
   "execution_count": 11,
   "id": "be349f52-a2e2-45d3-978a-65741402891f",
   "metadata": {},
   "outputs": [
    {
     "name": "stdout",
     "output_type": "stream",
     "text": [
      "<class 'pandas.core.frame.DataFrame'>\n",
      "RangeIndex: 891 entries, 0 to 890\n",
      "Data columns (total 12 columns):\n",
      " #   Column       Non-Null Count  Dtype  \n",
      "---  ------       --------------  -----  \n",
      " 0   PassengerId  891 non-null    int64  \n",
      " 1   Survived     891 non-null    int64  \n",
      " 2   Pclass       891 non-null    int64  \n",
      " 3   Name         891 non-null    object \n",
      " 4   Sex          891 non-null    object \n",
      " 5   Age          714 non-null    float64\n",
      " 6   SibSp        891 non-null    int64  \n",
      " 7   Parch        891 non-null    int64  \n",
      " 8   Ticket       891 non-null    object \n",
      " 9   Fare         891 non-null    float64\n",
      " 10  Cabin        204 non-null    object \n",
      " 11  Embarked     889 non-null    object \n",
      "dtypes: float64(2), int64(5), object(5)\n",
      "memory usage: 83.7+ KB\n"
     ]
    }
   ],
   "source": [
    "df.info() #note that object here is string type"
   ]
  },
  {
   "cell_type": "code",
   "execution_count": 12,
   "id": "ae150400",
   "metadata": {},
   "outputs": [
    {
     "data": {
      "text/plain": [
       "PassengerId      int64\n",
       "Survived         int64\n",
       "Pclass           int64\n",
       "Name            object\n",
       "Sex             object\n",
       "Age            float64\n",
       "SibSp            int64\n",
       "Parch            int64\n",
       "Ticket          object\n",
       "Fare           float64\n",
       "Cabin           object\n",
       "Embarked        object\n",
       "dtype: object"
      ]
     },
     "execution_count": 12,
     "metadata": {},
     "output_type": "execute_result"
    }
   ],
   "source": [
    "df.dtypes"
   ]
  },
  {
   "cell_type": "code",
   "execution_count": 13,
   "id": "a66e180c-5658-4c77-8dff-36962e51f662",
   "metadata": {},
   "outputs": [
    {
     "data": {
      "text/plain": [
       "(891, 12)"
      ]
     },
     "execution_count": 13,
     "metadata": {},
     "output_type": "execute_result"
    }
   ],
   "source": [
    "df.shape #800 rows and 12 columns "
   ]
  },
  {
   "cell_type": "code",
   "execution_count": 14,
   "id": "6173752c",
   "metadata": {},
   "outputs": [
    {
     "data": {
      "text/plain": [
       "PassengerId      0\n",
       "Survived         0\n",
       "Pclass           0\n",
       "Name             0\n",
       "Sex              0\n",
       "Age            177\n",
       "SibSp            0\n",
       "Parch            0\n",
       "Ticket           0\n",
       "Fare             0\n",
       "Cabin          687\n",
       "Embarked         2\n",
       "dtype: int64"
      ]
     },
     "execution_count": 14,
     "metadata": {},
     "output_type": "execute_result"
    }
   ],
   "source": [
    "df.isna().sum() #Age and Cabin have a large number of missing values"
   ]
  },
  {
   "cell_type": "code",
   "execution_count": 15,
   "id": "e1278d12-7418-42c7-9161-d4a5193c2e33",
   "metadata": {},
   "outputs": [],
   "source": [
    "df.drop(['Age','Cabin'], axis=1, inplace=True) #dropping the two columns - axis=1 is column"
   ]
  },
  {
   "cell_type": "code",
   "execution_count": 16,
   "id": "e67c4600-e95f-4d0e-aeec-84995e33db08",
   "metadata": {},
   "outputs": [
    {
     "data": {
      "text/html": [
       "<div>\n",
       "<style scoped>\n",
       "    .dataframe tbody tr th:only-of-type {\n",
       "        vertical-align: middle;\n",
       "    }\n",
       "\n",
       "    .dataframe tbody tr th {\n",
       "        vertical-align: top;\n",
       "    }\n",
       "\n",
       "    .dataframe thead th {\n",
       "        text-align: right;\n",
       "    }\n",
       "</style>\n",
       "<table border=\"1\" class=\"dataframe\">\n",
       "  <thead>\n",
       "    <tr style=\"text-align: right;\">\n",
       "      <th></th>\n",
       "      <th>PassengerId</th>\n",
       "      <th>Survived</th>\n",
       "      <th>Pclass</th>\n",
       "      <th>Name</th>\n",
       "      <th>Sex</th>\n",
       "      <th>SibSp</th>\n",
       "      <th>Parch</th>\n",
       "      <th>Ticket</th>\n",
       "      <th>Fare</th>\n",
       "      <th>Embarked</th>\n",
       "    </tr>\n",
       "  </thead>\n",
       "  <tbody>\n",
       "    <tr>\n",
       "      <th>0</th>\n",
       "      <td>1</td>\n",
       "      <td>0</td>\n",
       "      <td>3</td>\n",
       "      <td>Braund, Mr. Owen Harris</td>\n",
       "      <td>male</td>\n",
       "      <td>1</td>\n",
       "      <td>0</td>\n",
       "      <td>A/5 21171</td>\n",
       "      <td>7.2500</td>\n",
       "      <td>S</td>\n",
       "    </tr>\n",
       "    <tr>\n",
       "      <th>1</th>\n",
       "      <td>2</td>\n",
       "      <td>1</td>\n",
       "      <td>1</td>\n",
       "      <td>Cumings, Mrs. John Bradley (Florence Briggs Th...</td>\n",
       "      <td>female</td>\n",
       "      <td>1</td>\n",
       "      <td>0</td>\n",
       "      <td>PC 17599</td>\n",
       "      <td>71.2833</td>\n",
       "      <td>C</td>\n",
       "    </tr>\n",
       "    <tr>\n",
       "      <th>2</th>\n",
       "      <td>3</td>\n",
       "      <td>1</td>\n",
       "      <td>3</td>\n",
       "      <td>Heikkinen, Miss. Laina</td>\n",
       "      <td>female</td>\n",
       "      <td>0</td>\n",
       "      <td>0</td>\n",
       "      <td>STON/O2. 3101282</td>\n",
       "      <td>7.9250</td>\n",
       "      <td>S</td>\n",
       "    </tr>\n",
       "    <tr>\n",
       "      <th>3</th>\n",
       "      <td>4</td>\n",
       "      <td>1</td>\n",
       "      <td>1</td>\n",
       "      <td>Futrelle, Mrs. Jacques Heath (Lily May Peel)</td>\n",
       "      <td>female</td>\n",
       "      <td>1</td>\n",
       "      <td>0</td>\n",
       "      <td>113803</td>\n",
       "      <td>53.1000</td>\n",
       "      <td>S</td>\n",
       "    </tr>\n",
       "    <tr>\n",
       "      <th>4</th>\n",
       "      <td>5</td>\n",
       "      <td>0</td>\n",
       "      <td>3</td>\n",
       "      <td>Allen, Mr. William Henry</td>\n",
       "      <td>male</td>\n",
       "      <td>0</td>\n",
       "      <td>0</td>\n",
       "      <td>373450</td>\n",
       "      <td>8.0500</td>\n",
       "      <td>S</td>\n",
       "    </tr>\n",
       "  </tbody>\n",
       "</table>\n",
       "</div>"
      ],
      "text/plain": [
       "   PassengerId  Survived  Pclass  \\\n",
       "0            1         0       3   \n",
       "1            2         1       1   \n",
       "2            3         1       3   \n",
       "3            4         1       1   \n",
       "4            5         0       3   \n",
       "\n",
       "                                                Name     Sex  SibSp  Parch  \\\n",
       "0                            Braund, Mr. Owen Harris    male      1      0   \n",
       "1  Cumings, Mrs. John Bradley (Florence Briggs Th...  female      1      0   \n",
       "2                             Heikkinen, Miss. Laina  female      0      0   \n",
       "3       Futrelle, Mrs. Jacques Heath (Lily May Peel)  female      1      0   \n",
       "4                           Allen, Mr. William Henry    male      0      0   \n",
       "\n",
       "             Ticket     Fare Embarked  \n",
       "0         A/5 21171   7.2500        S  \n",
       "1          PC 17599  71.2833        C  \n",
       "2  STON/O2. 3101282   7.9250        S  \n",
       "3            113803  53.1000        S  \n",
       "4            373450   8.0500        S  "
      ]
     },
     "execution_count": 16,
     "metadata": {},
     "output_type": "execute_result"
    }
   ],
   "source": [
    "df.head()"
   ]
  },
  {
   "cell_type": "code",
   "execution_count": 17,
   "id": "4a80df3b-9385-44ea-b9a7-6a63562b3d42",
   "metadata": {},
   "outputs": [],
   "source": [
    "df.dropna(axis=0, inplace=True) #deleting the two rows with missing info in the Embarked column"
   ]
  },
  {
   "cell_type": "code",
   "execution_count": 18,
   "id": "b59f710c-a7d3-42ca-b341-2613d7741ed2",
   "metadata": {},
   "outputs": [
    {
     "data": {
      "text/plain": [
       "((889, 10), 0)"
      ]
     },
     "execution_count": 18,
     "metadata": {},
     "output_type": "execute_result"
    }
   ],
   "source": [
    "df.shape, df.duplicated().sum() #checks if any rows are duplicates\n",
    "#2 rows and 2 columns deleted"
   ]
  },
  {
   "cell_type": "code",
   "execution_count": 19,
   "id": "b6786ffa",
   "metadata": {},
   "outputs": [
    {
     "data": {
      "text/plain": [
       "Embarked\n",
       "C    0.553571\n",
       "Q    0.389610\n",
       "S    0.336957\n",
       "Name: Survived, dtype: float64"
      ]
     },
     "execution_count": 19,
     "metadata": {},
     "output_type": "execute_result"
    }
   ],
   "source": [
    "df.groupby(['Embarked'])['Survived'].mean()"
   ]
  },
  {
   "cell_type": "code",
   "execution_count": 20,
   "id": "f169e68c-9746-45fc-9b19-c20875bee691",
   "metadata": {},
   "outputs": [
    {
     "data": {
      "text/html": [
       "<div>\n",
       "<style scoped>\n",
       "    .dataframe tbody tr th:only-of-type {\n",
       "        vertical-align: middle;\n",
       "    }\n",
       "\n",
       "    .dataframe tbody tr th {\n",
       "        vertical-align: top;\n",
       "    }\n",
       "\n",
       "    .dataframe thead th {\n",
       "        text-align: right;\n",
       "    }\n",
       "</style>\n",
       "<table border=\"1\" class=\"dataframe\">\n",
       "  <thead>\n",
       "    <tr style=\"text-align: right;\">\n",
       "      <th></th>\n",
       "      <th>mean</th>\n",
       "      <th>sum</th>\n",
       "      <th>count</th>\n",
       "    </tr>\n",
       "    <tr>\n",
       "      <th>Sex</th>\n",
       "      <th></th>\n",
       "      <th></th>\n",
       "      <th></th>\n",
       "    </tr>\n",
       "  </thead>\n",
       "  <tbody>\n",
       "    <tr>\n",
       "      <th>female</th>\n",
       "      <td>0.740385</td>\n",
       "      <td>231</td>\n",
       "      <td>312</td>\n",
       "    </tr>\n",
       "    <tr>\n",
       "      <th>male</th>\n",
       "      <td>0.188908</td>\n",
       "      <td>109</td>\n",
       "      <td>577</td>\n",
       "    </tr>\n",
       "  </tbody>\n",
       "</table>\n",
       "</div>"
      ],
      "text/plain": [
       "            mean  sum  count\n",
       "Sex                         \n",
       "female  0.740385  231    312\n",
       "male    0.188908  109    577"
      ]
     },
     "execution_count": 20,
     "metadata": {},
     "output_type": "execute_result"
    }
   ],
   "source": [
    "df.groupby(['Sex'])['Survived'].agg(['mean','sum','count'])"
   ]
  },
  {
   "cell_type": "code",
   "execution_count": 21,
   "id": "6e28a2ee-7973-4424-bc7b-583d294d560c",
   "metadata": {},
   "outputs": [
    {
     "data": {
      "text/plain": [
       "Embarked  Pclass\n",
       "C         1         8901.0750\n",
       "          2          431.0917\n",
       "          3          740.1295\n",
       "Q         1          180.0000\n",
       "          2           37.0500\n",
       "          3          805.2043\n",
       "S         1         8936.3375\n",
       "          2         3333.7000\n",
       "          3         5169.3613\n",
       "Name: Fare, dtype: float64"
      ]
     },
     "execution_count": 21,
     "metadata": {},
     "output_type": "execute_result"
    }
   ],
   "source": [
    "df.groupby(['Embarked','Pclass'])['Fare'].sum()"
   ]
  },
  {
   "cell_type": "markdown",
   "id": "ac1ac5cf-2bee-4d29-a300-d3ebd494096e",
   "metadata": {},
   "source": [
    "# Time Series\n",
    "\n",
    "#### Part 1\n",
    "\n",
    "We will use a dataset with time series: Temperature dataset for Rio (Source: https://www.kaggle.com/datasets/volpatto/temperature-timeseries-for-some-brazilian-cities?select=station_rio.csv)"
   ]
  },
  {
   "cell_type": "code",
   "execution_count": 22,
   "id": "285d4072-c1a3-4286-a791-14234eeff637",
   "metadata": {},
   "outputs": [],
   "source": [
    "df = pd.read_csv('./data/station_rio.csv')"
   ]
  },
  {
   "cell_type": "code",
   "execution_count": 23,
   "id": "f48dca74-2f2a-49b4-a34b-8173ae8a05ec",
   "metadata": {},
   "outputs": [
    {
     "data": {
      "text/html": [
       "<div>\n",
       "<style scoped>\n",
       "    .dataframe tbody tr th:only-of-type {\n",
       "        vertical-align: middle;\n",
       "    }\n",
       "\n",
       "    .dataframe tbody tr th {\n",
       "        vertical-align: top;\n",
       "    }\n",
       "\n",
       "    .dataframe thead th {\n",
       "        text-align: right;\n",
       "    }\n",
       "</style>\n",
       "<table border=\"1\" class=\"dataframe\">\n",
       "  <thead>\n",
       "    <tr style=\"text-align: right;\">\n",
       "      <th></th>\n",
       "      <th>YEAR</th>\n",
       "      <th>JAN</th>\n",
       "      <th>FEB</th>\n",
       "      <th>MAR</th>\n",
       "      <th>APR</th>\n",
       "      <th>MAY</th>\n",
       "      <th>JUN</th>\n",
       "      <th>JUL</th>\n",
       "      <th>AUG</th>\n",
       "      <th>SEP</th>\n",
       "      <th>OCT</th>\n",
       "      <th>NOV</th>\n",
       "      <th>DEC</th>\n",
       "      <th>D-J-F</th>\n",
       "      <th>M-A-M</th>\n",
       "      <th>J-J-A</th>\n",
       "      <th>S-O-N</th>\n",
       "      <th>metANN</th>\n",
       "    </tr>\n",
       "  </thead>\n",
       "  <tbody>\n",
       "    <tr>\n",
       "      <th>0</th>\n",
       "      <td>1973</td>\n",
       "      <td>27.73</td>\n",
       "      <td>27.97</td>\n",
       "      <td>25.70</td>\n",
       "      <td>26.49</td>\n",
       "      <td>22.42</td>\n",
       "      <td>22.76</td>\n",
       "      <td>22.14</td>\n",
       "      <td>21.03</td>\n",
       "      <td>21.46</td>\n",
       "      <td>22.46</td>\n",
       "      <td>23.06</td>\n",
       "      <td>25.85</td>\n",
       "      <td>27.45</td>\n",
       "      <td>24.87</td>\n",
       "      <td>21.98</td>\n",
       "      <td>22.33</td>\n",
       "      <td>24.16</td>\n",
       "    </tr>\n",
       "    <tr>\n",
       "      <th>1</th>\n",
       "      <td>1974</td>\n",
       "      <td>26.68</td>\n",
       "      <td>27.16</td>\n",
       "      <td>26.56</td>\n",
       "      <td>23.94</td>\n",
       "      <td>22.76</td>\n",
       "      <td>20.70</td>\n",
       "      <td>21.20</td>\n",
       "      <td>21.81</td>\n",
       "      <td>22.91</td>\n",
       "      <td>22.80</td>\n",
       "      <td>24.51</td>\n",
       "      <td>24.54</td>\n",
       "      <td>26.56</td>\n",
       "      <td>24.42</td>\n",
       "      <td>21.24</td>\n",
       "      <td>23.41</td>\n",
       "      <td>23.91</td>\n",
       "    </tr>\n",
       "    <tr>\n",
       "      <th>2</th>\n",
       "      <td>1975</td>\n",
       "      <td>25.27</td>\n",
       "      <td>26.92</td>\n",
       "      <td>26.43</td>\n",
       "      <td>22.82</td>\n",
       "      <td>21.37</td>\n",
       "      <td>20.50</td>\n",
       "      <td>19.68</td>\n",
       "      <td>22.98</td>\n",
       "      <td>22.40</td>\n",
       "      <td>22.65</td>\n",
       "      <td>24.11</td>\n",
       "      <td>26.53</td>\n",
       "      <td>25.58</td>\n",
       "      <td>23.54</td>\n",
       "      <td>21.05</td>\n",
       "      <td>23.05</td>\n",
       "      <td>23.31</td>\n",
       "    </tr>\n",
       "    <tr>\n",
       "      <th>3</th>\n",
       "      <td>1976</td>\n",
       "      <td>27.48</td>\n",
       "      <td>26.20</td>\n",
       "      <td>25.55</td>\n",
       "      <td>24.99</td>\n",
       "      <td>22.01</td>\n",
       "      <td>21.18</td>\n",
       "      <td>20.14</td>\n",
       "      <td>21.15</td>\n",
       "      <td>21.27</td>\n",
       "      <td>22.06</td>\n",
       "      <td>24.40</td>\n",
       "      <td>25.56</td>\n",
       "      <td>26.74</td>\n",
       "      <td>24.18</td>\n",
       "      <td>20.82</td>\n",
       "      <td>22.58</td>\n",
       "      <td>23.58</td>\n",
       "    </tr>\n",
       "    <tr>\n",
       "      <th>4</th>\n",
       "      <td>1977</td>\n",
       "      <td>27.13</td>\n",
       "      <td>28.51</td>\n",
       "      <td>26.88</td>\n",
       "      <td>24.22</td>\n",
       "      <td>22.35</td>\n",
       "      <td>22.13</td>\n",
       "      <td>23.07</td>\n",
       "      <td>22.29</td>\n",
       "      <td>22.44</td>\n",
       "      <td>23.92</td>\n",
       "      <td>24.48</td>\n",
       "      <td>24.84</td>\n",
       "      <td>27.07</td>\n",
       "      <td>24.48</td>\n",
       "      <td>22.50</td>\n",
       "      <td>23.61</td>\n",
       "      <td>24.42</td>\n",
       "    </tr>\n",
       "  </tbody>\n",
       "</table>\n",
       "</div>"
      ],
      "text/plain": [
       "   YEAR    JAN    FEB    MAR    APR    MAY    JUN    JUL    AUG    SEP    OCT  \\\n",
       "0  1973  27.73  27.97  25.70  26.49  22.42  22.76  22.14  21.03  21.46  22.46   \n",
       "1  1974  26.68  27.16  26.56  23.94  22.76  20.70  21.20  21.81  22.91  22.80   \n",
       "2  1975  25.27  26.92  26.43  22.82  21.37  20.50  19.68  22.98  22.40  22.65   \n",
       "3  1976  27.48  26.20  25.55  24.99  22.01  21.18  20.14  21.15  21.27  22.06   \n",
       "4  1977  27.13  28.51  26.88  24.22  22.35  22.13  23.07  22.29  22.44  23.92   \n",
       "\n",
       "     NOV    DEC  D-J-F  M-A-M  J-J-A  S-O-N  metANN  \n",
       "0  23.06  25.85  27.45  24.87  21.98  22.33   24.16  \n",
       "1  24.51  24.54  26.56  24.42  21.24  23.41   23.91  \n",
       "2  24.11  26.53  25.58  23.54  21.05  23.05   23.31  \n",
       "3  24.40  25.56  26.74  24.18  20.82  22.58   23.58  \n",
       "4  24.48  24.84  27.07  24.48  22.50  23.61   24.42  "
      ]
     },
     "execution_count": 23,
     "metadata": {},
     "output_type": "execute_result"
    }
   ],
   "source": [
    "df.head() #the data is wide format "
   ]
  },
  {
   "cell_type": "code",
   "execution_count": 24,
   "id": "9061389c-8a43-4d6a-99b1-b964112a0c7c",
   "metadata": {},
   "outputs": [],
   "source": [
    "df = df.melt(id_vars=['YEAR','D-J-F','M-A-M','J-J-A','S-O-N','metANN'], \n",
    "        value_vars=['JAN','FEB','MAR','APR','MAY','JUN','JUL','AUG','SEP','OCT','NOV','DEC'], \n",
    "        var_name='Months', value_name='Temperature')"
   ]
  },
  {
   "cell_type": "code",
   "execution_count": 25,
   "id": "b3aa0a67-1758-4002-b764-e6c3c9309dd4",
   "metadata": {},
   "outputs": [
    {
     "data": {
      "text/html": [
       "<div>\n",
       "<style scoped>\n",
       "    .dataframe tbody tr th:only-of-type {\n",
       "        vertical-align: middle;\n",
       "    }\n",
       "\n",
       "    .dataframe tbody tr th {\n",
       "        vertical-align: top;\n",
       "    }\n",
       "\n",
       "    .dataframe thead th {\n",
       "        text-align: right;\n",
       "    }\n",
       "</style>\n",
       "<table border=\"1\" class=\"dataframe\">\n",
       "  <thead>\n",
       "    <tr style=\"text-align: right;\">\n",
       "      <th></th>\n",
       "      <th>YEAR</th>\n",
       "      <th>D-J-F</th>\n",
       "      <th>M-A-M</th>\n",
       "      <th>J-J-A</th>\n",
       "      <th>S-O-N</th>\n",
       "      <th>metANN</th>\n",
       "      <th>Months</th>\n",
       "      <th>Temperature</th>\n",
       "    </tr>\n",
       "  </thead>\n",
       "  <tbody>\n",
       "    <tr>\n",
       "      <th>0</th>\n",
       "      <td>1973</td>\n",
       "      <td>27.45</td>\n",
       "      <td>24.87</td>\n",
       "      <td>21.98</td>\n",
       "      <td>22.33</td>\n",
       "      <td>24.16</td>\n",
       "      <td>JAN</td>\n",
       "      <td>27.73</td>\n",
       "    </tr>\n",
       "    <tr>\n",
       "      <th>1</th>\n",
       "      <td>1974</td>\n",
       "      <td>26.56</td>\n",
       "      <td>24.42</td>\n",
       "      <td>21.24</td>\n",
       "      <td>23.41</td>\n",
       "      <td>23.91</td>\n",
       "      <td>JAN</td>\n",
       "      <td>26.68</td>\n",
       "    </tr>\n",
       "    <tr>\n",
       "      <th>2</th>\n",
       "      <td>1975</td>\n",
       "      <td>25.58</td>\n",
       "      <td>23.54</td>\n",
       "      <td>21.05</td>\n",
       "      <td>23.05</td>\n",
       "      <td>23.31</td>\n",
       "      <td>JAN</td>\n",
       "      <td>25.27</td>\n",
       "    </tr>\n",
       "    <tr>\n",
       "      <th>3</th>\n",
       "      <td>1976</td>\n",
       "      <td>26.74</td>\n",
       "      <td>24.18</td>\n",
       "      <td>20.82</td>\n",
       "      <td>22.58</td>\n",
       "      <td>23.58</td>\n",
       "      <td>JAN</td>\n",
       "      <td>27.48</td>\n",
       "    </tr>\n",
       "    <tr>\n",
       "      <th>4</th>\n",
       "      <td>1977</td>\n",
       "      <td>27.07</td>\n",
       "      <td>24.48</td>\n",
       "      <td>22.50</td>\n",
       "      <td>23.61</td>\n",
       "      <td>24.42</td>\n",
       "      <td>JAN</td>\n",
       "      <td>27.13</td>\n",
       "    </tr>\n",
       "  </tbody>\n",
       "</table>\n",
       "</div>"
      ],
      "text/plain": [
       "   YEAR  D-J-F  M-A-M  J-J-A  S-O-N  metANN Months  Temperature\n",
       "0  1973  27.45  24.87  21.98  22.33   24.16    JAN        27.73\n",
       "1  1974  26.56  24.42  21.24  23.41   23.91    JAN        26.68\n",
       "2  1975  25.58  23.54  21.05  23.05   23.31    JAN        25.27\n",
       "3  1976  26.74  24.18  20.82  22.58   23.58    JAN        27.48\n",
       "4  1977  27.07  24.48  22.50  23.61   24.42    JAN        27.13"
      ]
     },
     "execution_count": 25,
     "metadata": {},
     "output_type": "execute_result"
    }
   ],
   "source": [
    "df.head()"
   ]
  },
  {
   "cell_type": "code",
   "execution_count": 26,
   "id": "5de42946-68f8-47e6-8027-bd0fc1f29ae0",
   "metadata": {},
   "outputs": [
    {
     "data": {
      "text/plain": [
       "YEAR             int64\n",
       "D-J-F          float64\n",
       "M-A-M          float64\n",
       "J-J-A          float64\n",
       "S-O-N          float64\n",
       "metANN         float64\n",
       "Months          object\n",
       "Temperature    float64\n",
       "dtype: object"
      ]
     },
     "execution_count": 26,
     "metadata": {},
     "output_type": "execute_result"
    }
   ],
   "source": [
    "df.dtypes"
   ]
  },
  {
   "cell_type": "code",
   "execution_count": 27,
   "id": "5b0baf3a-c4c7-4c9d-bf2d-6ef90051bf10",
   "metadata": {},
   "outputs": [],
   "source": [
    "df['YEAR'] = pd.to_datetime(df['YEAR'], format='%Y')"
   ]
  },
  {
   "cell_type": "code",
   "execution_count": 28,
   "id": "4c48d87a-4f9a-497b-897a-47c942bce2b7",
   "metadata": {},
   "outputs": [
    {
     "data": {
      "text/plain": [
       "YEAR           datetime64[ns]\n",
       "D-J-F                 float64\n",
       "M-A-M                 float64\n",
       "J-J-A                 float64\n",
       "S-O-N                 float64\n",
       "metANN                float64\n",
       "Months                 object\n",
       "Temperature           float64\n",
       "dtype: object"
      ]
     },
     "execution_count": 28,
     "metadata": {},
     "output_type": "execute_result"
    }
   ],
   "source": [
    "df.dtypes"
   ]
  },
  {
   "cell_type": "code",
   "execution_count": 29,
   "id": "40a2ba63-e049-4e1d-84ae-839c28430e83",
   "metadata": {},
   "outputs": [
    {
     "data": {
      "text/plain": [
       "Months\n",
       "APR     87.341277\n",
       "AUG    105.158298\n",
       "DEC    129.836170\n",
       "FEB    151.711064\n",
       "JAN    110.087021\n",
       "JUL    104.484255\n",
       "JUN     84.027234\n",
       "MAR     88.692128\n",
       "MAY    105.961702\n",
       "NOV    107.822553\n",
       "OCT     86.071064\n",
       "SEP    105.589362\n",
       "Name: Temperature, dtype: float64"
      ]
     },
     "execution_count": 29,
     "metadata": {},
     "output_type": "execute_result"
    }
   ],
   "source": [
    "df.groupby(['Months'])['Temperature'].mean() #Not in order - so we need to make it categorical "
   ]
  },
  {
   "cell_type": "code",
   "execution_count": 30,
   "id": "8b4aa42e-c1ee-4279-96d3-d892e1f6149a",
   "metadata": {},
   "outputs": [
    {
     "data": {
      "text/plain": [
       "<AxesSubplot:xlabel='Months'>"
      ]
     },
     "execution_count": 30,
     "metadata": {},
     "output_type": "execute_result"
    },
    {
     "data": {
      "image/png": "[encoded data removed]",
      "text/plain": [
       "<Figure size 432x288 with 1 Axes>"
      ]
     },
     "metadata": {
      "needs_background": "light"
     },
     "output_type": "display_data"
    }
   ],
   "source": [
    "df.groupby(['Months'])['Temperature'].mean().plot()"
   ]
  },
  {
   "cell_type": "code",
   "execution_count": 31,
   "id": "9555c68d-94b5-45d6-89da-806af8263ef6",
   "metadata": {},
   "outputs": [
    {
     "data": {
      "text/plain": [
       "CategoricalDtype(categories=['JAN', 'FEB', 'MAR', 'APR', 'MAY', 'JUN', 'JUL', 'AUG',\n",
       "                  'SEP', 'OCT', 'NOV', 'DEC'],\n",
       ", ordered=True)"
      ]
     },
     "execution_count": 31,
     "metadata": {},
     "output_type": "execute_result"
    }
   ],
   "source": [
    "monthscat = ['JAN','FEB','MAR','APR','MAY','JUN','JUL', 'AUG','SEP',  'OCT','NOV','DEC']\n",
    "df['Months'] = pd.Categorical(df['Months'], categories=monthscat, ordered=True)\n",
    "df.Months.dtypes"
   ]
  },
  {
   "cell_type": "code",
   "execution_count": 32,
   "id": "5856435e-60d2-40d9-b4f1-6222461ea956",
   "metadata": {},
   "outputs": [
    {
     "data": {
      "text/plain": [
       "Months\n",
       "JAN    110.087021\n",
       "FEB    151.711064\n",
       "MAR     88.692128\n",
       "APR     87.341277\n",
       "MAY    105.961702\n",
       "JUN     84.027234\n",
       "JUL    104.484255\n",
       "AUG    105.158298\n",
       "SEP    105.589362\n",
       "OCT     86.071064\n",
       "NOV    107.822553\n",
       "DEC    129.836170\n",
       "Name: Temperature, dtype: float64"
      ]
     },
     "execution_count": 32,
     "metadata": {},
     "output_type": "execute_result"
    }
   ],
   "source": [
    "df.groupby(['Months'])['Temperature'].mean() #Now it is in order"
   ]
  },
  {
   "cell_type": "code",
   "execution_count": 33,
   "id": "b11ae742-d0f6-44f6-80f6-61c393ca30a3",
   "metadata": {},
   "outputs": [
    {
     "data": {
      "text/plain": [
       "<AxesSubplot:xlabel='Months'>"
      ]
     },
     "execution_count": 33,
     "metadata": {},
     "output_type": "execute_result"
    },
    {
     "data": {
      "image/png": "[encoded data removed]",
      "text/plain": [
       "<Figure size 432x288 with 1 Axes>"
      ]
     },
     "metadata": {
      "needs_background": "light"
     },
     "output_type": "display_data"
    }
   ],
   "source": [
    "df.groupby(['Months'])['Temperature'].mean().plot() #This graph makes sense"
   ]
  },
  {
   "cell_type": "code",
   "execution_count": 34,
   "id": "f8acefe3-7601-47be-a7f7-8d8596f04096",
   "metadata": {},
   "outputs": [
    {
     "data": {
      "text/plain": [
       "(YEAR           datetime64[ns]\n",
       " D-J-F                 float64\n",
       " M-A-M                 float64\n",
       " J-J-A                 float64\n",
       " S-O-N                 float64\n",
       " metANN                float64\n",
       " Months               category\n",
       " Temperature           float64\n",
       " dtype: object,\n",
       " (564, 8),\n",
       " CategoricalDtype(categories=['JAN', 'FEB', 'MAR', 'APR', 'MAY', 'JUN', 'JUL', 'AUG',\n",
       "                   'SEP', 'OCT', 'NOV', 'DEC'],\n",
       " , ordered=True))"
      ]
     },
     "execution_count": 34,
     "metadata": {},
     "output_type": "execute_result"
    }
   ],
   "source": [
    "df.dtypes, df.shape, df.Months.dtype"
   ]
  },
  {
   "cell_type": "code",
   "execution_count": 35,
   "id": "b6a9f241-d51e-4572-a328-a70ddf4010a8",
   "metadata": {},
   "outputs": [
    {
     "data": {
      "text/html": [
       "<div>\n",
       "<style scoped>\n",
       "    .dataframe tbody tr th:only-of-type {\n",
       "        vertical-align: middle;\n",
       "    }\n",
       "\n",
       "    .dataframe tbody tr th {\n",
       "        vertical-align: top;\n",
       "    }\n",
       "\n",
       "    .dataframe thead th {\n",
       "        text-align: right;\n",
       "    }\n",
       "</style>\n",
       "<table border=\"1\" class=\"dataframe\">\n",
       "  <thead>\n",
       "    <tr style=\"text-align: right;\">\n",
       "      <th></th>\n",
       "      <th>D-J-F</th>\n",
       "      <th>M-A-M</th>\n",
       "      <th>J-J-A</th>\n",
       "      <th>S-O-N</th>\n",
       "      <th>metANN</th>\n",
       "      <th>Temperature</th>\n",
       "    </tr>\n",
       "    <tr>\n",
       "      <th>YEAR</th>\n",
       "      <th></th>\n",
       "      <th></th>\n",
       "      <th></th>\n",
       "      <th></th>\n",
       "      <th></th>\n",
       "      <th></th>\n",
       "    </tr>\n",
       "  </thead>\n",
       "  <tbody>\n",
       "    <tr>\n",
       "      <th>1973-12-31</th>\n",
       "      <td>27.450000</td>\n",
       "      <td>24.870000</td>\n",
       "      <td>21.980</td>\n",
       "      <td>22.330</td>\n",
       "      <td>24.160</td>\n",
       "      <td>24.089167</td>\n",
       "    </tr>\n",
       "    <tr>\n",
       "      <th>1983-12-31</th>\n",
       "      <td>26.342000</td>\n",
       "      <td>24.160000</td>\n",
       "      <td>21.345</td>\n",
       "      <td>23.316</td>\n",
       "      <td>23.792</td>\n",
       "      <td>23.791333</td>\n",
       "    </tr>\n",
       "    <tr>\n",
       "      <th>1993-12-31</th>\n",
       "      <td>124.135000</td>\n",
       "      <td>122.428000</td>\n",
       "      <td>216.892</td>\n",
       "      <td>218.522</td>\n",
       "      <td>219.237</td>\n",
       "      <td>186.703167</td>\n",
       "    </tr>\n",
       "    <tr>\n",
       "      <th>2003-12-31</th>\n",
       "      <td>124.582000</td>\n",
       "      <td>122.536000</td>\n",
       "      <td>119.510</td>\n",
       "      <td>121.335</td>\n",
       "      <td>122.000</td>\n",
       "      <td>130.094167</td>\n",
       "    </tr>\n",
       "    <tr>\n",
       "      <th>2013-12-31</th>\n",
       "      <td>221.585000</td>\n",
       "      <td>122.203000</td>\n",
       "      <td>119.435</td>\n",
       "      <td>23.905</td>\n",
       "      <td>121.846</td>\n",
       "      <td>113.695417</td>\n",
       "    </tr>\n",
       "    <tr>\n",
       "      <th>2023-12-31</th>\n",
       "      <td>28.121667</td>\n",
       "      <td>25.716667</td>\n",
       "      <td>22.220</td>\n",
       "      <td>24.760</td>\n",
       "      <td>25.205</td>\n",
       "      <td>65.772222</td>\n",
       "    </tr>\n",
       "  </tbody>\n",
       "</table>\n",
       "</div>"
      ],
      "text/plain": [
       "                 D-J-F       M-A-M    J-J-A    S-O-N   metANN  Temperature\n",
       "YEAR                                                                      \n",
       "1973-12-31   27.450000   24.870000   21.980   22.330   24.160    24.089167\n",
       "1983-12-31   26.342000   24.160000   21.345   23.316   23.792    23.791333\n",
       "1993-12-31  124.135000  122.428000  216.892  218.522  219.237   186.703167\n",
       "2003-12-31  124.582000  122.536000  119.510  121.335  122.000   130.094167\n",
       "2013-12-31  221.585000  122.203000  119.435   23.905  121.846   113.695417\n",
       "2023-12-31   28.121667   25.716667   22.220   24.760   25.205    65.772222"
      ]
     },
     "execution_count": 35,
     "metadata": {},
     "output_type": "execute_result"
    }
   ],
   "source": [
    "df.set_index('YEAR').resample('10Y').mean()"
   ]
  },
  {
   "cell_type": "markdown",
   "id": "c7d0bfd2-eaf0-4149-9c73-5f4f700ce868",
   "metadata": {},
   "source": [
    "# Time series\n",
    "\n",
    "### Part 2\n",
    "\n",
    "Let's look at a little more complicated dataset of Climate data. (Source: https://www.kaggle.com/datasets/sumanthvrao/daily-climate-time-series-data?select=DailyDelhiClimateTest.csv)"
   ]
  },
  {
   "cell_type": "code",
   "execution_count": 36,
   "id": "deac2b82-6068-4e7b-a1e9-b389cf81e196",
   "metadata": {},
   "outputs": [],
   "source": [
    "ctrain = pd.read_csv('./data/climate/DailyDelhiClimateTrain.csv', parse_dates=['date'])\n",
    "ctest = pd.read_csv('./data/climate/DailyDelhiClimateTest.csv',parse_dates=['date'])"
   ]
  },
  {
   "cell_type": "code",
   "execution_count": 37,
   "id": "e7596771-c04f-46aa-9b71-cb259af59d72",
   "metadata": {},
   "outputs": [
    {
     "data": {
      "text/html": [
       "<div>\n",
       "<style scoped>\n",
       "    .dataframe tbody tr th:only-of-type {\n",
       "        vertical-align: middle;\n",
       "    }\n",
       "\n",
       "    .dataframe tbody tr th {\n",
       "        vertical-align: top;\n",
       "    }\n",
       "\n",
       "    .dataframe thead th {\n",
       "        text-align: right;\n",
       "    }\n",
       "</style>\n",
       "<table border=\"1\" class=\"dataframe\">\n",
       "  <thead>\n",
       "    <tr style=\"text-align: right;\">\n",
       "      <th></th>\n",
       "      <th>date</th>\n",
       "      <th>meantemp</th>\n",
       "      <th>humidity</th>\n",
       "      <th>wind_speed</th>\n",
       "      <th>meanpressure</th>\n",
       "    </tr>\n",
       "  </thead>\n",
       "  <tbody>\n",
       "    <tr>\n",
       "      <th>0</th>\n",
       "      <td>2013-01-01</td>\n",
       "      <td>10.000000</td>\n",
       "      <td>84.500000</td>\n",
       "      <td>0.000000</td>\n",
       "      <td>1015.666667</td>\n",
       "    </tr>\n",
       "    <tr>\n",
       "      <th>1</th>\n",
       "      <td>2013-01-02</td>\n",
       "      <td>7.400000</td>\n",
       "      <td>92.000000</td>\n",
       "      <td>2.980000</td>\n",
       "      <td>1017.800000</td>\n",
       "    </tr>\n",
       "    <tr>\n",
       "      <th>2</th>\n",
       "      <td>2013-01-03</td>\n",
       "      <td>7.166667</td>\n",
       "      <td>87.000000</td>\n",
       "      <td>4.633333</td>\n",
       "      <td>1018.666667</td>\n",
       "    </tr>\n",
       "    <tr>\n",
       "      <th>3</th>\n",
       "      <td>2013-01-04</td>\n",
       "      <td>8.666667</td>\n",
       "      <td>71.333333</td>\n",
       "      <td>1.233333</td>\n",
       "      <td>1017.166667</td>\n",
       "    </tr>\n",
       "    <tr>\n",
       "      <th>4</th>\n",
       "      <td>2013-01-05</td>\n",
       "      <td>6.000000</td>\n",
       "      <td>86.833333</td>\n",
       "      <td>3.700000</td>\n",
       "      <td>1016.500000</td>\n",
       "    </tr>\n",
       "  </tbody>\n",
       "</table>\n",
       "</div>"
      ],
      "text/plain": [
       "        date   meantemp   humidity  wind_speed  meanpressure\n",
       "0 2013-01-01  10.000000  84.500000    0.000000   1015.666667\n",
       "1 2013-01-02   7.400000  92.000000    2.980000   1017.800000\n",
       "2 2013-01-03   7.166667  87.000000    4.633333   1018.666667\n",
       "3 2013-01-04   8.666667  71.333333    1.233333   1017.166667\n",
       "4 2013-01-05   6.000000  86.833333    3.700000   1016.500000"
      ]
     },
     "execution_count": 37,
     "metadata": {},
     "output_type": "execute_result"
    }
   ],
   "source": [
    "ctrain.head()"
   ]
  },
  {
   "cell_type": "code",
   "execution_count": 38,
   "id": "adda8292-7621-49e9-b5db-8ca8627aeb5a",
   "metadata": {},
   "outputs": [
    {
     "data": {
      "text/html": [
       "<div>\n",
       "<style scoped>\n",
       "    .dataframe tbody tr th:only-of-type {\n",
       "        vertical-align: middle;\n",
       "    }\n",
       "\n",
       "    .dataframe tbody tr th {\n",
       "        vertical-align: top;\n",
       "    }\n",
       "\n",
       "    .dataframe thead th {\n",
       "        text-align: right;\n",
       "    }\n",
       "</style>\n",
       "<table border=\"1\" class=\"dataframe\">\n",
       "  <thead>\n",
       "    <tr style=\"text-align: right;\">\n",
       "      <th></th>\n",
       "      <th>date</th>\n",
       "      <th>meantemp</th>\n",
       "      <th>humidity</th>\n",
       "      <th>wind_speed</th>\n",
       "      <th>meanpressure</th>\n",
       "    </tr>\n",
       "  </thead>\n",
       "  <tbody>\n",
       "    <tr>\n",
       "      <th>0</th>\n",
       "      <td>2017-01-01</td>\n",
       "      <td>15.913043</td>\n",
       "      <td>85.869565</td>\n",
       "      <td>2.743478</td>\n",
       "      <td>59.000000</td>\n",
       "    </tr>\n",
       "    <tr>\n",
       "      <th>1</th>\n",
       "      <td>2017-01-02</td>\n",
       "      <td>18.500000</td>\n",
       "      <td>77.222222</td>\n",
       "      <td>2.894444</td>\n",
       "      <td>1018.277778</td>\n",
       "    </tr>\n",
       "    <tr>\n",
       "      <th>2</th>\n",
       "      <td>2017-01-03</td>\n",
       "      <td>17.111111</td>\n",
       "      <td>81.888889</td>\n",
       "      <td>4.016667</td>\n",
       "      <td>1018.333333</td>\n",
       "    </tr>\n",
       "    <tr>\n",
       "      <th>3</th>\n",
       "      <td>2017-01-04</td>\n",
       "      <td>18.700000</td>\n",
       "      <td>70.050000</td>\n",
       "      <td>4.545000</td>\n",
       "      <td>1015.700000</td>\n",
       "    </tr>\n",
       "    <tr>\n",
       "      <th>4</th>\n",
       "      <td>2017-01-05</td>\n",
       "      <td>18.388889</td>\n",
       "      <td>74.944444</td>\n",
       "      <td>3.300000</td>\n",
       "      <td>1014.333333</td>\n",
       "    </tr>\n",
       "  </tbody>\n",
       "</table>\n",
       "</div>"
      ],
      "text/plain": [
       "        date   meantemp   humidity  wind_speed  meanpressure\n",
       "0 2017-01-01  15.913043  85.869565    2.743478     59.000000\n",
       "1 2017-01-02  18.500000  77.222222    2.894444   1018.277778\n",
       "2 2017-01-03  17.111111  81.888889    4.016667   1018.333333\n",
       "3 2017-01-04  18.700000  70.050000    4.545000   1015.700000\n",
       "4 2017-01-05  18.388889  74.944444    3.300000   1014.333333"
      ]
     },
     "execution_count": 38,
     "metadata": {},
     "output_type": "execute_result"
    }
   ],
   "source": [
    "ctest.head()"
   ]
  },
  {
   "cell_type": "code",
   "execution_count": 39,
   "id": "2af4dc54-74f3-4126-ac0a-a9b7b2822b93",
   "metadata": {},
   "outputs": [],
   "source": [
    "df = pd.concat([ctrain, ctest], axis=0,ignore_index=True)\n",
    "#See also pd.merge - with left, right, inner, outer joins etc. "
   ]
  },
  {
   "cell_type": "code",
   "execution_count": 40,
   "id": "d1a31731-0c71-49bf-9d1a-a7385d2df294",
   "metadata": {},
   "outputs": [
    {
     "data": {
      "text/plain": [
       "((1576, 5), (1462, 5), (114, 5))"
      ]
     },
     "execution_count": 40,
     "metadata": {},
     "output_type": "execute_result"
    }
   ],
   "source": [
    "df.shape, ctrain.shape, ctest.shape"
   ]
  },
  {
   "cell_type": "markdown",
   "id": "06ff26f7-5e76-4efa-9731-180065a5901d",
   "metadata": {},
   "source": [
    "### Resampling datetime \n",
    "\n",
    "See also asfreq() in pandas for resampling"
   ]
  },
  {
   "cell_type": "code",
   "execution_count": 41,
   "id": "17a512ef-a7d8-4c09-bc7d-275165bbb878",
   "metadata": {},
   "outputs": [
    {
     "data": {
      "text/html": [
       "<div>\n",
       "<style scoped>\n",
       "    .dataframe tbody tr th:only-of-type {\n",
       "        vertical-align: middle;\n",
       "    }\n",
       "\n",
       "    .dataframe tbody tr th {\n",
       "        vertical-align: top;\n",
       "    }\n",
       "\n",
       "    .dataframe thead th {\n",
       "        text-align: right;\n",
       "    }\n",
       "</style>\n",
       "<table border=\"1\" class=\"dataframe\">\n",
       "  <thead>\n",
       "    <tr style=\"text-align: right;\">\n",
       "      <th></th>\n",
       "      <th>date</th>\n",
       "      <th>meantemp</th>\n",
       "      <th>humidity</th>\n",
       "      <th>wind_speed</th>\n",
       "      <th>meanpressure</th>\n",
       "    </tr>\n",
       "  </thead>\n",
       "  <tbody>\n",
       "    <tr>\n",
       "      <th>0</th>\n",
       "      <td>2013-01-01</td>\n",
       "      <td>10.000000</td>\n",
       "      <td>84.500000</td>\n",
       "      <td>0.000000</td>\n",
       "      <td>1015.666667</td>\n",
       "    </tr>\n",
       "    <tr>\n",
       "      <th>1</th>\n",
       "      <td>2013-01-02</td>\n",
       "      <td>7.400000</td>\n",
       "      <td>92.000000</td>\n",
       "      <td>2.980000</td>\n",
       "      <td>1017.800000</td>\n",
       "    </tr>\n",
       "    <tr>\n",
       "      <th>2</th>\n",
       "      <td>2013-01-03</td>\n",
       "      <td>7.166667</td>\n",
       "      <td>87.000000</td>\n",
       "      <td>4.633333</td>\n",
       "      <td>1018.666667</td>\n",
       "    </tr>\n",
       "    <tr>\n",
       "      <th>3</th>\n",
       "      <td>2013-01-04</td>\n",
       "      <td>8.666667</td>\n",
       "      <td>71.333333</td>\n",
       "      <td>1.233333</td>\n",
       "      <td>1017.166667</td>\n",
       "    </tr>\n",
       "    <tr>\n",
       "      <th>4</th>\n",
       "      <td>2013-01-05</td>\n",
       "      <td>6.000000</td>\n",
       "      <td>86.833333</td>\n",
       "      <td>3.700000</td>\n",
       "      <td>1016.500000</td>\n",
       "    </tr>\n",
       "  </tbody>\n",
       "</table>\n",
       "</div>"
      ],
      "text/plain": [
       "        date   meantemp   humidity  wind_speed  meanpressure\n",
       "0 2013-01-01  10.000000  84.500000    0.000000   1015.666667\n",
       "1 2013-01-02   7.400000  92.000000    2.980000   1017.800000\n",
       "2 2013-01-03   7.166667  87.000000    4.633333   1018.666667\n",
       "3 2013-01-04   8.666667  71.333333    1.233333   1017.166667\n",
       "4 2013-01-05   6.000000  86.833333    3.700000   1016.500000"
      ]
     },
     "execution_count": 41,
     "metadata": {},
     "output_type": "execute_result"
    }
   ],
   "source": [
    "df.head()"
   ]
  },
  {
   "cell_type": "code",
   "execution_count": 42,
   "id": "fe6aa80b-2603-4752-a532-e9fa5c8e8dc8",
   "metadata": {},
   "outputs": [],
   "source": [
    "df.set_index('date', inplace=True) #set datetime as index to resample"
   ]
  },
  {
   "cell_type": "code",
   "execution_count": 43,
   "id": "7fa9089f-742b-47fa-a1b7-5f32d0644a47",
   "metadata": {},
   "outputs": [
    {
     "data": {
      "text/html": [
       "<div>\n",
       "<style scoped>\n",
       "    .dataframe tbody tr th:only-of-type {\n",
       "        vertical-align: middle;\n",
       "    }\n",
       "\n",
       "    .dataframe tbody tr th {\n",
       "        vertical-align: top;\n",
       "    }\n",
       "\n",
       "    .dataframe thead th {\n",
       "        text-align: right;\n",
       "    }\n",
       "</style>\n",
       "<table border=\"1\" class=\"dataframe\">\n",
       "  <thead>\n",
       "    <tr style=\"text-align: right;\">\n",
       "      <th></th>\n",
       "      <th>meantemp</th>\n",
       "      <th>humidity</th>\n",
       "      <th>wind_speed</th>\n",
       "      <th>meanpressure</th>\n",
       "    </tr>\n",
       "    <tr>\n",
       "      <th>date</th>\n",
       "      <th></th>\n",
       "      <th></th>\n",
       "      <th></th>\n",
       "      <th></th>\n",
       "    </tr>\n",
       "  </thead>\n",
       "  <tbody>\n",
       "    <tr>\n",
       "      <th>2013-01-01</th>\n",
       "      <td>10.000000</td>\n",
       "      <td>84.500000</td>\n",
       "      <td>0.000000</td>\n",
       "      <td>1015.666667</td>\n",
       "    </tr>\n",
       "    <tr>\n",
       "      <th>2013-01-02</th>\n",
       "      <td>7.400000</td>\n",
       "      <td>92.000000</td>\n",
       "      <td>2.980000</td>\n",
       "      <td>1017.800000</td>\n",
       "    </tr>\n",
       "    <tr>\n",
       "      <th>2013-01-03</th>\n",
       "      <td>7.166667</td>\n",
       "      <td>87.000000</td>\n",
       "      <td>4.633333</td>\n",
       "      <td>1018.666667</td>\n",
       "    </tr>\n",
       "    <tr>\n",
       "      <th>2013-01-04</th>\n",
       "      <td>8.666667</td>\n",
       "      <td>71.333333</td>\n",
       "      <td>1.233333</td>\n",
       "      <td>1017.166667</td>\n",
       "    </tr>\n",
       "    <tr>\n",
       "      <th>2013-01-05</th>\n",
       "      <td>6.000000</td>\n",
       "      <td>86.833333</td>\n",
       "      <td>3.700000</td>\n",
       "      <td>1016.500000</td>\n",
       "    </tr>\n",
       "  </tbody>\n",
       "</table>\n",
       "</div>"
      ],
      "text/plain": [
       "             meantemp   humidity  wind_speed  meanpressure\n",
       "date                                                      \n",
       "2013-01-01  10.000000  84.500000    0.000000   1015.666667\n",
       "2013-01-02   7.400000  92.000000    2.980000   1017.800000\n",
       "2013-01-03   7.166667  87.000000    4.633333   1018.666667\n",
       "2013-01-04   8.666667  71.333333    1.233333   1017.166667\n",
       "2013-01-05   6.000000  86.833333    3.700000   1016.500000"
      ]
     },
     "execution_count": 43,
     "metadata": {},
     "output_type": "execute_result"
    }
   ],
   "source": [
    "df.head()"
   ]
  },
  {
   "cell_type": "code",
   "execution_count": 44,
   "id": "ffc4b667-58c5-4258-bf0a-40446737a84c",
   "metadata": {},
   "outputs": [
    {
     "data": {
      "image/png": "[encoded data removed]",
      "text/plain": [
       "<Figure size 432x288 with 4 Axes>"
      ]
     },
     "metadata": {
      "needs_background": "light"
     },
     "output_type": "display_data"
    }
   ],
   "source": [
    "df.hist();"
   ]
  },
  {
   "cell_type": "code",
   "execution_count": 45,
   "id": "3e394c40-27da-4221-8136-61197d3ac6e4",
   "metadata": {},
   "outputs": [],
   "source": [
    "#df.loc[:,['meantemp','humidity']]"
   ]
  },
  {
   "cell_type": "code",
   "execution_count": 46,
   "id": "102f381f-8426-4560-92fa-e7ea40052ea9",
   "metadata": {},
   "outputs": [
    {
     "data": {
      "text/plain": [
       "<AxesSubplot:xlabel='date'>"
      ]
     },
     "execution_count": 46,
     "metadata": {},
     "output_type": "execute_result"
    },
    {
     "data": {
      "image/png": "[encoded data removed]",
      "text/plain": [
       "<Figure size 432x288 with 1 Axes>"
      ]
     },
     "metadata": {
      "needs_background": "light"
     },
     "output_type": "display_data"
    }
   ],
   "source": [
    "df.iloc[:,0:-1].plot() #Also see .loc which takes row/column names unlike .iloc which takes row/column numbers"
   ]
  },
  {
   "cell_type": "code",
   "execution_count": 47,
   "id": "ac71ee15-4299-4384-a2ef-af7add6930bf",
   "metadata": {},
   "outputs": [
    {
     "data": {
      "text/plain": [
       "<AxesSubplot:xlabel='date'>"
      ]
     },
     "execution_count": 47,
     "metadata": {},
     "output_type": "execute_result"
    },
    {
     "data": {
      "image/png": "[encoded data removed]",
      "text/plain": [
       "<Figure size 432x288 with 1 Axes>"
      ]
     },
     "metadata": {
      "needs_background": "light"
     },
     "output_type": "display_data"
    }
   ],
   "source": [
    "df.meantemp.plot()\n",
    "df.meantemp.rolling(window=10).mean().plot() #moving average (rolling) for 10 days"
   ]
  },
  {
   "cell_type": "code",
   "execution_count": 48,
   "id": "32a76634-5eeb-41d4-b8f8-b2495e26605d",
   "metadata": {},
   "outputs": [
    {
     "data": {
      "text/plain": [
       "<AxesSubplot:xlabel='date'>"
      ]
     },
     "execution_count": 48,
     "metadata": {},
     "output_type": "execute_result"
    },
    {
     "data": {
      "image/png": "[encoded data removed]",
      "text/plain": [
       "<Figure size 432x288 with 1 Axes>"
      ]
     },
     "metadata": {
      "needs_background": "light"
     },
     "output_type": "display_data"
    }
   ],
   "source": [
    "df.meantemp.rolling(window=30).mean().plot()\n",
    "df.meantemp.rolling(window=120).mean().plot()\n",
    "df.meantemp.rolling(window=365).mean().plot()\n",
    "#Moving averages for 1 month, 4 months and yearly averages (rolling)"
   ]
  },
  {
   "cell_type": "code",
   "execution_count": 49,
   "id": "3765c5fc-9f28-4535-932c-6ec44618d81c",
   "metadata": {},
   "outputs": [
    {
     "data": {
      "text/plain": [
       "<AxesSubplot:xlabel='date'>"
      ]
     },
     "execution_count": 49,
     "metadata": {},
     "output_type": "execute_result"
    },
    {
     "data": {
      "image/png": "[encoded data removed]",
      "text/plain": [
       "<Figure size 432x288 with 1 Axes>"
      ]
     },
     "metadata": {
      "needs_background": "light"
     },
     "output_type": "display_data"
    }
   ],
   "source": [
    "df.meantemp.expanding(min_periods=5).mean().plot() "
   ]
  },
  {
   "cell_type": "code",
   "execution_count": 50,
   "id": "59b89d73-3f4d-4d3f-be7a-0bf80e02efcb",
   "metadata": {},
   "outputs": [
    {
     "data": {
      "text/plain": [
       "<AxesSubplot:xlabel='date'>"
      ]
     },
     "execution_count": 50,
     "metadata": {},
     "output_type": "execute_result"
    },
    {
     "data": {
      "image/png": "[encoded data removed]",
      "text/plain": [
       "<Figure size 432x288 with 1 Axes>"
      ]
     },
     "metadata": {
      "needs_background": "light"
     },
     "output_type": "display_data"
    }
   ],
   "source": [
    "df.meantemp.ewm(span=30).mean().plot() #exponential weighted moving average\n",
    "df.meantemp.ewm(span=120).mean().plot() \n",
    "df.meantemp.ewm(span=365).mean().plot() "
   ]
  },
  {
   "cell_type": "code",
   "execution_count": null,
   "id": "fdfa7b56-fc46-499e-a354-8feaa606f2dc",
   "metadata": {},
   "outputs": [],
   "source": []
  }
 ],
 "metadata": {
  "kernelspec": {
   "display_name": "Python 3 (ipykernel)",
   "language": "python",
   "name": "python3"
  },
  "language_info": {
   "codemirror_mode": {
    "name": "ipython",
    "version": 3
   },
   "file_extension": ".py",
   "mimetype": "text/x-python",
   "name": "python",
   "nbconvert_exporter": "python",
   "pygments_lexer": "ipython3",
   "version": "3.10.4"
  }
 },
 "nbformat": 4,
 "nbformat_minor": 5
}
