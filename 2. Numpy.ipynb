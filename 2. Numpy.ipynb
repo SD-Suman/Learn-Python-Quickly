{
 "cells": [
  {
   "cell_type": "markdown",
   "id": "43521d40",
   "metadata": {},
   "source": [
    "### Numpy\n",
    "\n",
    "These are two of the commonly used packages: Numpy is numerical python.\n",
    "\n",
    "Numpy is array (or matrix) based and performs operations very quickly (very less time taken for huge calculations as compared to calculations on lists or base python computations for the same kind of operations). It can handle mathematics (MATLAB alternative), Plotting (matplotlib library), images, and very useful for performing heavy calculations using machine learning)."
   ]
  },
  {
   "cell_type": "code",
   "execution_count": 1,
   "id": "8ac4161b",
   "metadata": {},
   "outputs": [],
   "source": [
    "#Numpy and Pandas come with Anaconda but in case you need to install it use '!' to access terminal inside the notebook \n",
    "#Uncomment the commands below to install the packages (if not already installed) - it might take some time to install \n",
    "# !pip install numpy\n",
    "# !pip install pandas"
   ]
  },
  {
   "cell_type": "code",
   "execution_count": 2,
   "id": "c2981931",
   "metadata": {},
   "outputs": [],
   "source": [
    "#Import the modules as a short name - commonly used as np and pd for numpy and panads \n",
    "import numpy as np \n",
    "import pandas as pd"
   ]
  },
  {
   "cell_type": "code",
   "execution_count": 3,
   "id": "dc3ebce3",
   "metadata": {},
   "outputs": [
    {
     "name": "stdout",
     "output_type": "stream",
     "text": [
      "[1 2] \n",
      " \n",
      " [[1 2]\n",
      " [3 4]]\n"
     ]
    }
   ],
   "source": [
    "#Simple array 1x2 and 2x2\n",
    "\n",
    "a1 = np.array([1,2])\n",
    "\n",
    "a = np.array([[1,2],[3,4]])\n",
    "print(f'{a1} \\n \\n {a}')"
   ]
  },
  {
   "cell_type": "code",
   "execution_count": 4,
   "id": "8ae97f08",
   "metadata": {},
   "outputs": [
    {
     "name": "stdout",
     "output_type": "stream",
     "text": [
      "(2, 2)\n",
      "4\n",
      "2\n"
     ]
    }
   ],
   "source": [
    "#shape (2x2), size (number of elements) Dimention (2d/3d etc. )\n",
    "print(a.shape)\n",
    "print(a.size)\n",
    "print(a.ndim)"
   ]
  },
  {
   "cell_type": "code",
   "execution_count": 5,
   "id": "88028c97",
   "metadata": {},
   "outputs": [
    {
     "data": {
      "text/plain": [
       "array([[[1, 2, 3],\n",
       "        [1, 3, 2],\n",
       "        [5, 6, 7]]])"
      ]
     },
     "execution_count": 5,
     "metadata": {},
     "output_type": "execute_result"
    }
   ],
   "source": [
    "d = np.array([[1,2,3],[1,3,2],[5,6,7]], ndmin = 3)\n",
    "d # try for yourself n dimention arrays"
   ]
  },
  {
   "cell_type": "code",
   "execution_count": 6,
   "id": "0306e3ee",
   "metadata": {},
   "outputs": [
    {
     "name": "stdout",
     "output_type": "stream",
     "text": [
      "[0 1 2 3 4 5 6 7 8 9]\n",
      "[4 5 6 7 8 9]\n",
      "[ 1  4  7 10 13]\n"
     ]
    }
   ],
   "source": [
    "# Arange\n",
    "# rank 1 ndarray that has sequential integers from 0 to 9\n",
    "# x = [0 1 2 3 4 5 6 7 8 9]\n",
    "x = np.arange(10)\n",
    "print(x)\n",
    "# rank 1 ndarray that has sequential integers from 4 to 9\n",
    "# [start, stop)\n",
    "# x = [4 5 6 7 8 9]\n",
    "y = np.arange(4,10)\n",
    "print(y)\n",
    "# rank 1 ndarray that has evenly spaced integers from 1 to 13 in steps of 3.\n",
    "# np.arange(start,stop,step)\n",
    "# x = [ 1 4 7 10 13]\n",
    "z = np.arange(1,14,3)\n",
    "print(z)"
   ]
  },
  {
   "cell_type": "code",
   "execution_count": 7,
   "id": "afed0d85",
   "metadata": {},
   "outputs": [
    {
     "data": {
      "text/plain": [
       "4"
      ]
     },
     "execution_count": 7,
     "metadata": {},
     "output_type": "execute_result"
    }
   ],
   "source": [
    "s = np.array([1,2], dtype = 'int32') #try int32 to int16\n",
    "s.itemsize #Shows the number of bytes of memory used\n",
    "#s.size * s.itemsize, a.nbytes #Also a way to check the memory "
   ]
  },
  {
   "cell_type": "code",
   "execution_count": 8,
   "id": "01d5b074",
   "metadata": {},
   "outputs": [],
   "source": [
    "s = np.array(['yes', 'no'])"
   ]
  },
  {
   "cell_type": "code",
   "execution_count": 9,
   "id": "3a0d3efb",
   "metadata": {},
   "outputs": [
    {
     "data": {
      "text/plain": [
       "dtype('<U3')"
      ]
     },
     "execution_count": 9,
     "metadata": {},
     "output_type": "execute_result"
    }
   ],
   "source": [
    "s.dtype #<U3 is Unicode string type"
   ]
  },
  {
   "cell_type": "code",
   "execution_count": 10,
   "id": "3d416017",
   "metadata": {},
   "outputs": [
    {
     "name": "stdout",
     "output_type": "stream",
     "text": [
      "[[ 1  2  3  4  5  6]\n",
      " [ 7  8  9 10 11 12]]\n",
      "\n",
      "\n"
     ]
    },
    {
     "data": {
      "text/plain": [
       "9"
      ]
     },
     "execution_count": 10,
     "metadata": {},
     "output_type": "execute_result"
    }
   ],
   "source": [
    "a = np.array([[1,2,3,4,5,6],[7,8,9,10,11,12]])\n",
    "print(a)\n",
    "\n",
    "print('\\n')\n",
    "\n",
    "#Accessing specific elements in the array a[row,column]\n",
    "#Note that both indexing starts at 0\n",
    "#To access 9 which is in 1st row and 2nd column:\n",
    "a[1,2] "
   ]
  },
  {
   "cell_type": "code",
   "execution_count": 11,
   "id": "ec12228f",
   "metadata": {},
   "outputs": [
    {
     "data": {
      "text/plain": [
       "array([[[[1, 2, 3],\n",
       "         [4, 5, 6],\n",
       "         [7, 8, 9]]]])"
      ]
     },
     "execution_count": 11,
     "metadata": {},
     "output_type": "execute_result"
    }
   ],
   "source": [
    "#4 dimention array -- observe the number of square brackets\n",
    "d = np.array([[1,2,3],[4,5,6],[7,8,9]], ndmin = 4)\n",
    "d"
   ]
  },
  {
   "cell_type": "code",
   "execution_count": 12,
   "id": "e0825954",
   "metadata": {},
   "outputs": [
    {
     "data": {
      "text/plain": [
       "numpy.int64"
      ]
     },
     "execution_count": 12,
     "metadata": {},
     "output_type": "execute_result"
    }
   ],
   "source": [
    "type(d[0,0,1,2])"
   ]
  },
  {
   "cell_type": "code",
   "execution_count": 13,
   "id": "1d8ab303",
   "metadata": {},
   "outputs": [
    {
     "data": {
      "text/plain": [
       "5"
      ]
     },
     "execution_count": 13,
     "metadata": {},
     "output_type": "execute_result"
    }
   ],
   "source": [
    "d[0,0,1,-2]  #Negative indexing from the bottom/right"
   ]
  },
  {
   "cell_type": "code",
   "execution_count": 14,
   "id": "ad32ded9",
   "metadata": {},
   "outputs": [
    {
     "name": "stdout",
     "output_type": "stream",
     "text": [
      "[0 1 2 3 4 5 6 7 8 9]\n",
      "[4 5 6 7 8 9]\n",
      "[ 1  4  7 10 13]\n"
     ]
    }
   ],
   "source": [
    "# Arange\n",
    "# rank 1 ndarray that has sequential integers from 0 to 9\n",
    "x = np.arange(10)\n",
    "print(x)\n",
    "# rank 1 ndarray that has sequential integers from 4 to 9\n",
    "# [start, stop)\n",
    "y = np.arange(4,10)\n",
    "print(y)\n",
    "# rank 1 ndarray that has evenly spaced integers from 1 to 13 in steps of 3.\n",
    "# np.arange(start,stop,step)\n",
    "z = np.arange(1,14,3)\n",
    "print(z)"
   ]
  },
  {
   "cell_type": "code",
   "execution_count": 15,
   "id": "fdb2d9bd",
   "metadata": {},
   "outputs": [
    {
     "data": {
      "text/plain": [
       "array([[ 0,  1,  2,  3],\n",
       "       [ 4,  5,  6,  7],\n",
       "       [ 8,  9, 10, 11],\n",
       "       [12, 13, 14, 15],\n",
       "       [16, 17, 18, 19],\n",
       "       [20, 21, 22, 23]])"
      ]
     },
     "execution_count": 15,
     "metadata": {},
     "output_type": "execute_result"
    }
   ],
   "source": [
    "a = np.arange(24).reshape(6,4)\n",
    "a"
   ]
  },
  {
   "cell_type": "code",
   "execution_count": 16,
   "id": "6bbc1982",
   "metadata": {},
   "outputs": [
    {
     "data": {
      "text/plain": [
       "array([[ 5,  6,  7],\n",
       "       [ 9, 10, 11],\n",
       "       [13, 14, 15],\n",
       "       [17, 18, 19],\n",
       "       [21, 22, 23]])"
      ]
     },
     "execution_count": 16,
     "metadata": {},
     "output_type": "execute_result"
    }
   ],
   "source": [
    "#Slicing -- a[row:row, column:column]\n",
    "#To get all rows and columns from 5 across and 5 down:\n",
    "a[1:,1:]"
   ]
  },
  {
   "cell_type": "code",
   "execution_count": 17,
   "id": "73bfb397",
   "metadata": {},
   "outputs": [
    {
     "name": "stdout",
     "output_type": "stream",
     "text": [
      "[[14 15]\n",
      " [18 19]] \n",
      "\n",
      "[[  0   1   2   3]\n",
      " [  4   5   6   7]\n",
      " [  8  90 100  11]\n",
      " [ 12  13  14  15]\n",
      " [ 16 170 180  19]\n",
      " [ 20  21  22  23]]\n"
     ]
    }
   ],
   "source": [
    "#Try to get [14,15], [18,19]\n",
    "print(f'{a[3:5, 2:]} \\n')\n",
    "#You can also change this elements using assignment and slicing \n",
    "#Try to get [9,10], [17,18] --- Here the [::,::] is [row:row:step, column:column:step]\n",
    "a[2::2,1:3:] = [[90,100],[170,180]]\n",
    "print(a)"
   ]
  },
  {
   "cell_type": "code",
   "execution_count": 18,
   "id": "d16e10fa",
   "metadata": {},
   "outputs": [
    {
     "data": {
      "text/plain": [
       "(31.75, 13.5)"
      ]
     },
     "execution_count": 18,
     "metadata": {},
     "output_type": "execute_result"
    }
   ],
   "source": [
    "np.mean(a), np.median(a)"
   ]
  },
  {
   "cell_type": "code",
   "execution_count": 19,
   "id": "09a40ac3",
   "metadata": {},
   "outputs": [
    {
     "data": {
      "text/plain": [
       "array([[0., 0., 0., 0.],\n",
       "       [0., 0., 0., 0.],\n",
       "       [0., 0., 0., 0.]])"
      ]
     },
     "execution_count": 19,
     "metadata": {},
     "output_type": "execute_result"
    }
   ],
   "source": [
    "# 3 x 4 ndarray full of zeros\n",
    "# np.zeros(shape)\n",
    "X = np.zeros((3,4))\n",
    "X"
   ]
  },
  {
   "cell_type": "code",
   "execution_count": 20,
   "id": "2d0ffb69",
   "metadata": {},
   "outputs": [
    {
     "data": {
      "text/plain": [
       "array([[1., 1.],\n",
       "       [1., 1.],\n",
       "       [1., 1.]])"
      ]
     },
     "execution_count": 20,
     "metadata": {},
     "output_type": "execute_result"
    }
   ],
   "source": [
    "# a 3 x 2 ndarray full of ones\n",
    "# np.ones(shape)\n",
    "X = np.ones((3,2))\n",
    "X"
   ]
  },
  {
   "cell_type": "code",
   "execution_count": 21,
   "id": "73d75296",
   "metadata": {},
   "outputs": [
    {
     "data": {
      "text/plain": [
       "array([[5, 5, 5],\n",
       "       [5, 5, 5]])"
      ]
     },
     "execution_count": 21,
     "metadata": {},
     "output_type": "execute_result"
    }
   ],
   "source": [
    "# 2 x 3 ndarray full of fives\n",
    "# np.full(shape, constant value)\n",
    "X = np.full((2,3), 5)\n",
    "X"
   ]
  },
  {
   "cell_type": "code",
   "execution_count": 22,
   "id": "1606161c",
   "metadata": {},
   "outputs": [
    {
     "data": {
      "text/plain": [
       "array([[1., 0., 0., 0., 0.],\n",
       "       [0., 1., 0., 0., 0.],\n",
       "       [0., 0., 1., 0., 0.],\n",
       "       [0., 0., 0., 1., 0.],\n",
       "       [0., 0., 0., 0., 1.]])"
      ]
     },
     "execution_count": 22,
     "metadata": {},
     "output_type": "execute_result"
    }
   ],
   "source": [
    "# Identity Matrix\n",
    "# Since all Identity Matrices are square, the np.eye() function only takes a single integer as an argument\n",
    "# 5 x 5 Identity matrix\n",
    "X = np.eye(5)\n",
    "X"
   ]
  },
  {
   "cell_type": "code",
   "execution_count": 23,
   "id": "d2268ac5",
   "metadata": {},
   "outputs": [
    {
     "data": {
      "text/plain": [
       "array([[10,  0,  0,  0],\n",
       "       [ 0, 20,  0,  0],\n",
       "       [ 0,  0, 30,  0],\n",
       "       [ 0,  0,  0, 50]])"
      ]
     },
     "execution_count": 23,
     "metadata": {},
     "output_type": "execute_result"
    }
   ],
   "source": [
    "# Diagonal Matrix\n",
    "# 4 x 4 diagonal matrix that contains the numbers 10,20,30, and 50 on its main diagonal\n",
    "X = np.diag([10,20,30,50])\n",
    "X"
   ]
  },
  {
   "cell_type": "code",
   "execution_count": 24,
   "id": "8b9b22db",
   "metadata": {},
   "outputs": [
    {
     "data": {
      "text/plain": [
       "array([[0.37757748, 0.15041565, 0.17674133],\n",
       "       [0.82593792, 0.8060459 , 0.75891128],\n",
       "       [0.73783378, 0.09631616, 0.96206618]])"
      ]
     },
     "execution_count": 24,
     "metadata": {},
     "output_type": "execute_result"
    }
   ],
   "source": [
    "np.random.random([3,3])"
   ]
  },
  {
   "cell_type": "code",
   "execution_count": 25,
   "id": "8d4e8a3c",
   "metadata": {},
   "outputs": [
    {
     "data": {
      "text/plain": [
       "array([[50, 67, 17, 82],\n",
       "       [13, 53, 62, 43],\n",
       "       [52, 92, 86,  0],\n",
       "       [15, 48, 28, 21]])"
      ]
     },
     "execution_count": 25,
     "metadata": {},
     "output_type": "execute_result"
    }
   ],
   "source": [
    "np.random.randint(0,100, size=(4,4))"
   ]
  },
  {
   "cell_type": "code",
   "execution_count": 26,
   "id": "ba97de9c",
   "metadata": {},
   "outputs": [
    {
     "data": {
      "text/plain": [
       "(array([ 1.        ,  1.48717949,  1.97435897,  2.46153846,  2.94871795,\n",
       "         3.43589744,  3.92307692,  4.41025641,  4.8974359 ,  5.38461538,\n",
       "         5.87179487,  6.35897436,  6.84615385,  7.33333333,  7.82051282,\n",
       "         8.30769231,  8.79487179,  9.28205128,  9.76923077, 10.25641026,\n",
       "        10.74358974, 11.23076923, 11.71794872, 12.20512821, 12.69230769,\n",
       "        13.17948718, 13.66666667, 14.15384615, 14.64102564, 15.12820513,\n",
       "        15.61538462, 16.1025641 , 16.58974359, 17.07692308, 17.56410256,\n",
       "        18.05128205, 18.53846154, 19.02564103, 19.51282051, 20.        ]),\n",
       " 0.48717948717948717)"
      ]
     },
     "execution_count": 26,
     "metadata": {},
     "output_type": "execute_result"
    }
   ],
   "source": [
    "np.linspace(1,20,40,retstep=True) #- equally spaced retstep gives the equidistance measure"
   ]
  },
  {
   "cell_type": "code",
   "execution_count": 27,
   "id": "110d87bf",
   "metadata": {},
   "outputs": [
    {
     "data": {
      "text/plain": [
       "array([[69, 65, 50, 22, 59, 17, 52, 18],\n",
       "       [60, 92, 67, 31, 88, 65, 36, 51],\n",
       "       [76, 90, 66, 35, 76, 67,  5, 37],\n",
       "       [77, 89, 48, 33, 75, 61, 74, 35],\n",
       "       [49, 53, 69, 29, 74,  8, 62, 85],\n",
       "       [48, 54, 33,  4, 35, 42, 26, 30],\n",
       "       [27, 54, 86, 22, 75, 28, 59,  8],\n",
       "       [96, 62, 52, 35, 47, 53, 19, 24]])"
      ]
     },
     "execution_count": 27,
     "metadata": {},
     "output_type": "execute_result"
    }
   ],
   "source": [
    "# Numpy random generation with a seed \n",
    "np.random.RandomState(43).randint(1,100,64).reshape(8,8) #rantint (start, stop, number of random ints)"
   ]
  },
  {
   "cell_type": "code",
   "execution_count": 28,
   "id": "b26cb342",
   "metadata": {},
   "outputs": [
    {
     "data": {
      "text/plain": [
       "array([[ 2,  4,  6],\n",
       "       [ 8, 10, 12],\n",
       "       [14, 16, 18]])"
      ]
     },
     "execution_count": 28,
     "metadata": {},
     "output_type": "execute_result"
    }
   ],
   "source": [
    "a = np.array([[1,2,3],[4,5,6],[7,8,9]])\n",
    "b = np.array([[1,2,3],[4,5,6],[7,8,9]])\n",
    "\n",
    "a + b"
   ]
  },
  {
   "cell_type": "code",
   "execution_count": 29,
   "id": "7eb75f4c",
   "metadata": {},
   "outputs": [
    {
     "data": {
      "text/plain": [
       "array([[0, 0, 0],\n",
       "       [0, 0, 0],\n",
       "       [0, 0, 0]])"
      ]
     },
     "execution_count": 29,
     "metadata": {},
     "output_type": "execute_result"
    }
   ],
   "source": [
    "a - b"
   ]
  },
  {
   "cell_type": "code",
   "execution_count": 30,
   "id": "7948dcd5",
   "metadata": {},
   "outputs": [
    {
     "data": {
      "text/plain": [
       "array([[ 1,  4,  9],\n",
       "       [16, 25, 36],\n",
       "       [49, 64, 81]])"
      ]
     },
     "execution_count": 30,
     "metadata": {},
     "output_type": "execute_result"
    }
   ],
   "source": [
    "a * b ##Not matrix multiplication -- for this we use dot product "
   ]
  },
  {
   "cell_type": "code",
   "execution_count": 31,
   "id": "7b047e96",
   "metadata": {},
   "outputs": [
    {
     "data": {
      "text/plain": [
       "array([[ 30,  36,  42],\n",
       "       [ 66,  81,  96],\n",
       "       [102, 126, 150]])"
      ]
     },
     "execution_count": 31,
     "metadata": {},
     "output_type": "execute_result"
    }
   ],
   "source": [
    "a.dot(b)"
   ]
  },
  {
   "cell_type": "code",
   "execution_count": 32,
   "id": "0bed8055",
   "metadata": {},
   "outputs": [
    {
     "data": {
      "text/plain": [
       "array([[ 30,  36,  42],\n",
       "       [ 66,  81,  96],\n",
       "       [102, 126, 150]])"
      ]
     },
     "execution_count": 32,
     "metadata": {},
     "output_type": "execute_result"
    }
   ],
   "source": [
    "np.dot(a,b)"
   ]
  },
  {
   "cell_type": "code",
   "execution_count": null,
   "id": "3dd26fe1-5fee-4899-9ebd-3cc786741129",
   "metadata": {},
   "outputs": [],
   "source": []
  }
 ],
 "metadata": {
  "kernelspec": {
   "display_name": "Python 3 (ipykernel)",
   "language": "python",
   "name": "python3"
  },
  "language_info": {
   "codemirror_mode": {
    "name": "ipython",
    "version": 3
   },
   "file_extension": ".py",
   "mimetype": "text/x-python",
   "name": "python",
   "nbconvert_exporter": "python",
   "pygments_lexer": "ipython3",
   "version": "3.10.4"
  }
 },
 "nbformat": 4,
 "nbformat_minor": 5
}
